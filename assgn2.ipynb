{
 "cells": [
  {
   "cell_type": "markdown",
   "id": "b67b2ebd-3e27-446b-9d89-2bb557aabca3",
   "metadata": {},
   "source": [
    "# Assignment2\n",
    "#### Harshita Divyajyoti\n",
    "#### 102317208"
   ]
  },
  {
   "cell_type": "markdown",
   "id": "786f817f-d4f9-4c61-a885-35e50f5964bb",
   "metadata": {},
   "source": [
    "##### 1. Create a List L that is defined as= [10, 20, 30, 40, 50, 60, 70, 80]. i.WAP to add 200 and 300 to L. ii.WAP to remove 10 and 30 from L.iii.WAP to sort L in ascending order. iv.WAP to sort L in descending order. "
   ]
  },
  {
   "cell_type": "code",
   "execution_count": 4,
   "id": "ae076b2e-ed24-4ac9-b189-322e903c22ca",
   "metadata": {},
   "outputs": [
    {
     "name": "stdout",
     "output_type": "stream",
     "text": [
      "After adding 200 and 300: [10, 20, 30, 40, 50, 60, 70, 80, 200, 300]\n",
      "After removing 10 and 30: [20, 40, 50, 60, 70, 80, 200, 300]\n",
      "After sorting in ascending order: [20, 40, 50, 60, 70, 80, 200, 300]\n",
      "After sorting in descending order: [300, 200, 80, 70, 60, 50, 40, 20]\n"
     ]
    }
   ],
   "source": [
    "L = [10, 20, 30, 40, 50, 60, 70, 80]\n",
    "\n",
    "L.append(200)\n",
    "L.append(300)\n",
    "print(\"After adding 200 and 300:\", L)\n",
    "\n",
    "L.remove(10)\n",
    "L.remove(30)\n",
    "print(\"After removing 10 and 30:\", L)\n",
    "\n",
    "L.sort()\n",
    "print(\"After sorting in ascending order:\", L)\n",
    "\n",
    "L.sort(reverse=True)\n",
    "print(\"After sorting in descending order:\", L)\n"
   ]
  },
  {
   "cell_type": "markdown",
   "id": "41dd528a-d383-43b5-af98-c301c4b7e4bc",
   "metadata": {},
   "source": [
    "##### 2. Create a tuple of marks scored as scores = (45, 89.5, 76, 45.4, 89, 92, 58, 45) and perform the following operations using tuple functions: i. Identify the highest score and its index in the tuple.ii. Find the lowest score and count how many times it appears.iii.Reverse the tuple and return it as a list.  iv. Check if a specific score ‘76’ (input by the user) is present in the tuple and print its first occurrence index, or a message saying it’s not present."
   ]
  },
  {
   "cell_type": "code",
   "execution_count": 11,
   "id": "96065ef6-d001-497e-8468-861ecfb7115d",
   "metadata": {},
   "outputs": [
    {
     "name": "stdout",
     "output_type": "stream",
     "text": [
      "index of highest score( 92 ) 5\n",
      "no. of times lowest 92  score appears= 1\n",
      "reversed list [45, 58, 92, 89, 45.4, 76, 89.5, 45]\n",
      "present at index 2\n"
     ]
    }
   ],
   "source": [
    "scores=(45,89.5,76,45.4,89,92,58,45)\n",
    "highest=max(scores)\n",
    "indexh=scores.index(highest)\n",
    "print('index of highest score(',highest,')',indexh)\n",
    "lowest=max(scores)\n",
    "n=scores.count(lowest)\n",
    "print('no. of times lowest',lowest,' score appears=',n)\n",
    "rev=list(scores[::-1])\n",
    "print('reversed list',rev)\n",
    "if 76 in scores:\n",
    "    i=scores.index(76)\n",
    "    print('present at index',i)\n",
    "else:\n",
    "    print('specific score not present')\n"
   ]
  },
  {
   "cell_type": "markdown",
   "id": "b1f349e5-fc11-4102-88fc-8920bd9a4112",
   "metadata": {},
   "source": [
    "##### 3.WAP to create a list of 100 random numbers between 100 and 900. Count and print the:(i) All odd numbers,(ii) All even numbers,(iii) All prime numbers"
   ]
  },
  {
   "cell_type": "code",
   "execution_count": 14,
   "id": "3f5198d5-9d94-413c-a6b5-f682af49918d",
   "metadata": {},
   "outputs": [
    {
     "name": "stdout",
     "output_type": "stream",
     "text": [
      "Odd numbers count: 52\n",
      "Even numbers count: 48\n",
      "Prime numbers count: 17\n"
     ]
    }
   ],
   "source": [
    "import random\n",
    "import math\n",
    "randomnumbers = [random.randint(100, 900) for r in range(100)]\n",
    "odd = 0\n",
    "even = 0\n",
    "prime = 0\n",
    "for x in randomnumbers:\n",
    "    if x % 2 == 0:\n",
    "        even += 1\n",
    "    else:\n",
    "        odd += 1\n",
    "    if x > 1:\n",
    "        isprime = True\n",
    "        for i in range(2, int(math.sqrt(x)) + 1):\n",
    "            if x % i == 0:\n",
    "                isprime = False\n",
    "                break\n",
    "        if isprime:\n",
    "            prime += 1\n",
    "print(\"Odd numbers count:\", odd)\n",
    "print(\"Even numbers count:\", even)\n",
    "print(\"Prime numbers count:\", prime)"
   ]
  },
  {
   "cell_type": "markdown",
   "id": "6e404740-c4f2-4960-a26a-5617b23a512c",
   "metadata": {},
   "source": [
    "##### 4. Consider the following sets representing scores of two teams: A = {34, 56, 78, 90} and B = {78, 45, 90, 23} . Perform the following operations: i. Find the unique scores achieved by both teams (union). ii. Identify the scores that are common to both teams (intersection). iii. Find the scores that are exclusive to each team (symmetric difference). iv. Check if the scores of team A are a subset of team B, and if team B's scores are a superset of team A. v. Remove a specific score X (input by the user) from set A if it exists. If not, print a message saying it is not present."
   ]
  },
  {
   "cell_type": "code",
   "execution_count": 3,
   "id": "c25acb3d-2a53-4440-8392-742e21cf272a",
   "metadata": {},
   "outputs": [
    {
     "name": "stdin",
     "output_type": "stream",
     "text": [
      "Enter the score to remove from set A:  56\n"
     ]
    },
    {
     "name": "stdout",
     "output_type": "stream",
     "text": [
      "Union of A and B: {34, 45, 78, 23, 56, 90}\n",
      "Intersection of A and B: {intersection_scores} {90, 78}\n",
      "Symmetric Difference of A and B: {34, 45, 23, 56}\n",
      "Is A a subset of B?  False\n",
      "Is B a superset of A?  False\n",
      "Updated set A: {34, 90, 78}\n",
      "Score 56 was removed from set A.\n"
     ]
    }
   ],
   "source": [
    "A = {34, 56, 78, 90} \n",
    "B = {78, 45, 90, 23}\n",
    "\n",
    "union = A | B\n",
    "intersection = A & B\n",
    "symmetricdiff = A ^ B\n",
    "is_A_subset_B = A <= B\n",
    "is_B_superset_A = B >= A\n",
    "\n",
    "X = int(input(\"Enter the score to remove from set A: \"))\n",
    "if X in A:\n",
    "    A.remove(X)\n",
    "    msg = f\"Score {X} was removed from set A.\"\n",
    "else:\n",
    "    msg = f\"Score {X} is not present in set A.\"\n",
    "\n",
    "print(\"Union of A and B:\",union)\n",
    "print(\"Intersection of A and B: {intersection_scores}\",intersection)\n",
    "print(\"Symmetric Difference of A and B:\",symmetricdiff)\n",
    "print(\"Is A a subset of B? \",is_A_subset_B)\n",
    "print(\"Is B a superset of A? \",is_B_superset_A)\n",
    "print(\"Updated set A:\",A)\n",
    "print(msg)\n"
   ]
  },
  {
   "cell_type": "markdown",
   "id": "088ece56-0119-4f26-a57c-0c777da1058d",
   "metadata": {},
   "source": [
    "##### 5.  Write a program to rename a key city to a location in the following diconary."
   ]
  },
  {
   "cell_type": "code",
   "execution_count": 7,
   "id": "b9e7b6b9-7ffb-4664-b3fc-f96d3afe8757",
   "metadata": {},
   "outputs": [
    {
     "name": "stdout",
     "output_type": "stream",
     "text": [
      "{'name': 'Kelly', 'age': 25, 'salary': 8000, 'location': 'New York'}\n"
     ]
    }
   ],
   "source": [
    "data = {\"name\": \"Kelly\", \"age\": 25, \"salary\": 8000, \"city\": \"New York\"}\n",
    "if \"city\" in data:\n",
    "    data[\"location\"] = data.pop(\"city\")\n",
    "print(data)\n"
   ]
  },
  {
   "cell_type": "code",
   "execution_count": null,
   "id": "05e9ee8c-41f8-48b4-b09d-79f85c685739",
   "metadata": {},
   "outputs": [],
   "source": []
  }
 ],
 "metadata": {
  "kernelspec": {
   "display_name": "Python [conda env:base] *",
   "language": "python",
   "name": "conda-base-py"
  },
  "language_info": {
   "codemirror_mode": {
    "name": "ipython",
    "version": 3
   },
   "file_extension": ".py",
   "mimetype": "text/x-python",
   "name": "python",
   "nbconvert_exporter": "python",
   "pygments_lexer": "ipython3",
   "version": "3.12.7"
  }
 },
 "nbformat": 4,
 "nbformat_minor": 5
}
